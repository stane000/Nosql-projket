{
 "cells": [
  {
   "cell_type": "code",
   "execution_count": 1,
   "id": "778fb42b",
   "metadata": {},
   "outputs": [
    {
     "name": "stderr",
     "output_type": "stream",
     "text": [
      "[nltk_data] Downloading package punkt to\n",
      "[nltk_data]     C:\\Users\\istankovic\\AppData\\Roaming\\nltk_data...\n",
      "[nltk_data]   Package punkt is already up-to-date!\n",
      "[nltk_data] Downloading package wordnet to\n",
      "[nltk_data]     C:\\Users\\istankovic\\AppData\\Roaming\\nltk_data...\n",
      "[nltk_data]   Package wordnet is already up-to-date!\n",
      "[nltk_data] Downloading package stopwords to\n",
      "[nltk_data]     C:\\Users\\istankovic\\AppData\\Roaming\\nltk_data...\n",
      "[nltk_data]   Package stopwords is already up-to-date!\n",
      "[nltk_data] Downloading package brown to\n",
      "[nltk_data]     C:\\Users\\istankovic\\AppData\\Roaming\\nltk_data...\n",
      "[nltk_data]   Package brown is already up-to-date!\n",
      "[nltk_data] Downloading package averaged_perceptron_tagger to\n",
      "[nltk_data]     C:\\Users\\istankovic\\AppData\\Roaming\\nltk_data...\n",
      "[nltk_data]   Package averaged_perceptron_tagger is already up-to-\n",
      "[nltk_data]       date!\n"
     ]
    }
   ],
   "source": [
    "#Svi importovi\n",
    "import nltk\n",
    "import subprocess\n",
    "import nltk.corpus  \n",
    "from nltk import sent_tokenize, word_tokenize\n",
    "from nltk.corpus import stopwords, brown\n",
    "from collections import Counter\n",
    "from nltk.text import Text \n",
    "import os\n",
    "nltk.download('punkt')\n",
    "nltk.download('wordnet')\n",
    "nltk.download('stopwords')\n",
    "nltk.download('brown')\n",
    "nltk.download('averaged_perceptron_tagger')\n",
    "path_to_gs = \"C:\\Program Files\\gs\\gs9.56.1\"\n",
    "os.environ['PATH']+=os.pathsep + path_to_gs"
   ]
  },
  {
   "cell_type": "code",
   "execution_count": 2,
   "id": "d1045345",
   "metadata": {},
   "outputs": [
    {
     "name": "stdout",
     "output_type": "stream",
     "text": [
      "Broj znakova:  437017\n"
     ]
    }
   ],
   "source": [
    "# Učitavanje teksutalnog dokumenta za obradu i preborajvanje elementa\n",
    "book = open(\"C:\\\\Users\\\\istankovic\\\\Desktop\\\\spremink\\\\projekt\\\\Analiza teksta 2\\\\harry_potter_1.txt\", \"r\", encoding = \"UTF-8\")\n",
    "book_raw = book.read()\n",
    "print('Broj znakova: ',len(book_raw))"
   ]
  },
  {
   "cell_type": "code",
   "execution_count": 3,
   "id": "04293918",
   "metadata": {},
   "outputs": [
    {
     "name": "stdout",
     "output_type": "stream",
     "text": [
      "Nakon normalizacije: \n",
      " otter &\n",
      "the sorcerer’s stone\n",
      "\n",
      "\n",
      "by j.k. rowling\n",
      " \n",
      "\n",
      "hp 1 - harry potter and the sorcerer's stone\n",
      " \n",
      "\n",
      "ch\n"
     ]
    }
   ],
   "source": [
    "# 1. Normalizacija teksta\n",
    "#Prebaciti sve u mala slova\n",
    "book_lowercase = book_raw.lower()\n",
    "print('Nakon normalizacije: \\n', book_lowercase[100:200])"
   ]
  },
  {
   "cell_type": "code",
   "execution_count": 4,
   "id": "5c7d202f",
   "metadata": {
    "scrolled": true
   },
   "outputs": [
    {
     "name": "stdout",
     "output_type": "stream",
     "text": [
      "Broj rečenica:  4866\n",
      "Tokena nakon tokeniziranje ima:  100932\n"
     ]
    }
   ],
   "source": [
    "# 2. tokenizacija teksta\n",
    "#Podjela na rečenice\n",
    "book_tokenized = sent_tokenize(book_lowercase)\n",
    "print('Broj rečenica: ',len(book_tokenized))\n",
    "\n",
    "#Podjela na riječi(tokene)\n",
    "book_tokens = word_tokenize(book_lowercase)\n",
    "print('Tokena nakon tokeniziranje ima: ', len(book_tokens))"
   ]
  },
  {
   "cell_type": "code",
   "execution_count": 5,
   "id": "471f795b",
   "metadata": {},
   "outputs": [
    {
     "name": "stdout",
     "output_type": "stream",
     "text": [
      "Ukupan broj tokena bez ne-alfanumeričkih znakova:  79015\n"
     ]
    }
   ],
   "source": [
    "# 3. Pročistiti tekst od suvišnih elemenata\n",
    "# Uklanjaju se ne-alfanumerički znakovi, ali brojevi ostaju\n",
    "book_tokens_clean = [word for word in book_tokens if word.isalpha()]\n",
    "print('Ukupan broj tokena bez ne-alfanumeričkih znakova: ', len(book_tokens_clean))"
   ]
  },
  {
   "cell_type": "code",
   "execution_count": 6,
   "id": "24f7c166",
   "metadata": {},
   "outputs": [
    {
     "name": "stdout",
     "output_type": "stream",
     "text": [
      "['hp', 'harri', 'potter', 'and', 'the', 'sorcer', 'stone', 'harri', 'potter', 'and', 'the', 'sorcer', 'stone', 'harri', 'potter', 'the', 'sorcer', 's', 'stone', 'by', 'rowl', 'hp', 'harri', 'potter', 'and', 'the', 'sorcer', 'stone', 'chapter', 'one', 'the', 'boy', 'who', 'live', 'm', 'and', 'dursley', 'of', 'number', 'four', 'privet', 'drive', 'were', 'proud', 'to', 'say', 'that', 'they', 'were', 'perfectli']\n"
     ]
    }
   ],
   "source": [
    "# 4. Stemming teksta\n",
    "# Stemtatizacija\n",
    "porter = nltk.PorterStemmer()\n",
    "stemedList = []\n",
    "for word in book_tokens_clean:\n",
    "    stemedList.append(porter.stem(word))\n",
    "    \n",
    "print(stemedList[0:50])"
   ]
  },
  {
   "cell_type": "code",
   "execution_count": 7,
   "id": "c5841442",
   "metadata": {},
   "outputs": [
    {
     "name": "stdout",
     "output_type": "stream",
     "text": [
      "['hp', 'harry', 'potter', 'and', 'the', 'sorcerer', 'stone', 'harry', 'potter', 'and', 'the', 'sorcerer', 'stone', 'harry', 'potter', 'the', 'sorcerer', 's', 'stone', 'by', 'rowling', 'hp', 'harry', 'potter', 'and', 'the', 'sorcerer', 'stone', 'chapter', 'one', 'the', 'boy', 'who', 'lived', 'm', 'and', 'dursley', 'of', 'number', 'four', 'privet', 'drive', 'were', 'proud', 'to', 'say', 'that', 'they', 'were', 'perfectly']\n"
     ]
    }
   ],
   "source": [
    "# 5. Lematizacija\n",
    "wnl = nltk.WordNetLemmatizer()\n",
    "book_lemma_list = []\n",
    "for word in book_tokens_clean:\n",
    "    book_lemma_list.append(wnl.lemmatize(word))\n",
    "\n",
    "print(book_lemma_list[0:50])"
   ]
  },
  {
   "cell_type": "code",
   "execution_count": 8,
   "id": "0974014c",
   "metadata": {},
   "outputs": [
    {
     "name": "stdout",
     "output_type": "stream",
     "text": [
      "Broj tokena prije uklanjanja stop words:  79015\n",
      "Ukupan broj tokena nakon obrade:  40766\n"
     ]
    }
   ],
   "source": [
    "# 6. Maknuti stop words\n",
    "print('Broj tokena prije uklanjanja stop words: ', len(book_lemma_list))\n",
    "no_stop_words = [word for word in book_lemma_list if not word in stopwords.words(\"english\")]\n",
    "print('Ukupan broj tokena nakon obrade: ', len(no_stop_words))"
   ]
  },
  {
   "cell_type": "code",
   "execution_count": 9,
   "id": "43c82008",
   "metadata": {},
   "outputs": [
    {
     "name": "stdout",
     "output_type": "stream",
     "text": [
      "Pojavnost 20 najčešćih riječi nakon lematizacije i stematizacije:\n",
      "\n",
      " [('harry', 1336), ('wa', 1186), ('said', 794), ('ron', 425), ('hagrid', 370), ('hermione', 268), ('one', 262), ('back', 257), ('got', 206), ('get', 202), ('could', 197), ('know', 197), ('like', 194), ('professor', 177), ('see', 174), ('looked', 169), ('snape', 167), ('dumbledore', 157), ('around', 141), ('dudley', 137)]\n"
     ]
    }
   ],
   "source": [
    "# 7. Izračunati frekvencije riječi u listi i sa prikazom u grafičkom obliku\n",
    "word_count = Counter(no_stop_words)\n",
    "print('Pojavnost 20 najčešćih riječi nakon lematizacije i stematizacije:\\n\\n', word_count.most_common(20))"
   ]
  },
  {
   "cell_type": "code",
   "execution_count": 15,
   "id": "c1851a93",
   "metadata": {},
   "outputs": [
    {
     "data": {
      "image/png": "[encoded data removed]",
      "text/plain": [
       "<Figure size 432x288 with 1 Axes>"
      ]
     },
     "metadata": {
      "needs_background": "light"
     },
     "output_type": "display_data"
    },
    {
     "data": {
      "text/plain": [
       "<AxesSubplot:title={'center':'Graf frekvencija 20 najčešćih riječi'}, xlabel='Samples', ylabel='Counts'>"
      ]
     },
     "execution_count": 15,
     "metadata": {},
     "output_type": "execute_result"
    }
   ],
   "source": [
    "fd = nltk.FreqDist(no_stop_words)\n",
    "pojavnost = fd.most_common(20)\n",
    "fd.plot(20,title='Graf frekvencija 20 najčešćih riječi')"
   ]
  },
  {
   "cell_type": "code",
   "execution_count": 10,
   "id": "c6c6cb36",
   "metadata": {},
   "outputs": [
    {
     "ename": "NameError",
     "evalue": "name 'pojavnost' is not defined",
     "output_type": "error",
     "traceback": [
      "\u001b[1;31m---------------------------------------------------------------------------\u001b[0m",
      "\u001b[1;31mNameError\u001b[0m                                 Traceback (most recent call last)",
      "\u001b[1;32mC:\\Users\\ISTANK~1\\AppData\\Local\\Temp/ipykernel_10456/1065176123.py\u001b[0m in \u001b[0;36m<module>\u001b[1;34m\u001b[0m\n\u001b[0;32m      5\u001b[0m \u001b[1;31m# ovime se izdvajaju samo najcesce koristenih \"n\" rijeci iz prethodnog bloka\u001b[0m\u001b[1;33m\u001b[0m\u001b[1;33m\u001b[0m\u001b[0m\n\u001b[0;32m      6\u001b[0m \u001b[1;33m\u001b[0m\u001b[0m\n\u001b[1;32m----> 7\u001b[1;33m \u001b[1;32mfor\u001b[0m \u001b[0mrijec\u001b[0m \u001b[1;32min\u001b[0m \u001b[0mpojavnost\u001b[0m\u001b[1;33m:\u001b[0m\u001b[1;33m\u001b[0m\u001b[1;33m\u001b[0m\u001b[0m\n\u001b[0m\u001b[0;32m      8\u001b[0m     \u001b[0mpojavnost2\u001b[0m\u001b[1;33m.\u001b[0m\u001b[0mappend\u001b[0m\u001b[1;33m(\u001b[0m\u001b[0mrijec\u001b[0m\u001b[1;33m[\u001b[0m\u001b[1;36m0\u001b[0m\u001b[1;33m]\u001b[0m\u001b[1;33m)\u001b[0m\u001b[1;33m\u001b[0m\u001b[1;33m\u001b[0m\u001b[0m\n\u001b[0;32m      9\u001b[0m \u001b[1;33m\u001b[0m\u001b[0m\n",
      "\u001b[1;31mNameError\u001b[0m: name 'pojavnost' is not defined"
     ]
    }
   ],
   "source": [
    "# 8. Prikazati concordance za najfrekventnije riječi\n",
    "pojavnost2 = []\n",
    "\n",
    "# pojavnost ima key i value vrijednosti (rijeci i frekvencije)\n",
    "# ovime se izdvajaju samo najcesce koristenih \"n\" rijeci iz prethodnog bloka\n",
    "\n",
    "for rijec in pojavnost:\n",
    "    pojavnost2.append(rijec[0])\n",
    "    \n",
    "tokens1 = nltk.word_tokenize(book_raw)\n",
    "text1 = nltk.Text(no_stop_words)\n",
    "\n",
    "for p in pojavnost2:\n",
    "    text1.concordance(p)\n",
    "    print(\"\\n\")"
   ]
  },
  {
   "cell_type": "code",
   "execution_count": 17,
   "id": "e3dd24ba",
   "metadata": {},
   "outputs": [
    {
     "data": {
      "text/plain": [
       "[('Uncle', 'Vernon'),\n",
       " ('Professor', 'McGonagall'),\n",
       " ('Aunt', 'Petunia'),\n",
       " ('said', 'Ron'),\n",
       " ('said', 'Harry'),\n",
       " ('said', 'Hagrid'),\n",
       " ('Mr.', 'Dursley'),\n",
       " ('Privet', 'Drive'),\n",
       " ('common', 'room'),\n",
       " ('Nimbus', 'Two'),\n",
       " ('Great', 'Hall'),\n",
       " ('Stone', 'CHAPTER'),\n",
       " ('Mrs.', 'Dursley'),\n",
       " ('Harry', 'Potter'),\n",
       " ('Two', 'Thousand'),\n",
       " ('invisibility', 'cloak'),\n",
       " ('Madam', 'Pomfrey'),\n",
       " ('Mr.', 'Ollivander'),\n",
       " ('Leaky', 'Cauldron'),\n",
       " ('Madam', 'Hooch')]"
      ]
     },
     "execution_count": 17,
     "metadata": {},
     "output_type": "execute_result"
    }
   ],
   "source": [
    "# 9. Prikazati kolokacije\n",
    "text1 = nltk.Text(tokens1)\n",
    "text1.collocation_list()"
   ]
  },
  {
   "cell_type": "code",
   "execution_count": null,
   "id": "f27bb3f2",
   "metadata": {},
   "outputs": [],
   "source": [
    "text1.dispersion_plot(pojavnost2)"
   ]
  },
  {
   "cell_type": "code",
   "execution_count": 11,
   "id": "696d6d58",
   "metadata": {},
   "outputs": [
    {
     "name": "stdout",
     "output_type": "stream",
     "text": [
      "Lexical diversity =  0.12186626109993622 \n",
      "\n"
     ]
    },
    {
     "ename": "IndexError",
     "evalue": "list index out of range",
     "output_type": "error",
     "traceback": [
      "\u001b[1;31m---------------------------------------------------------------------------\u001b[0m",
      "\u001b[1;31mIndexError\u001b[0m                                Traceback (most recent call last)",
      "\u001b[1;32mC:\\Users\\ISTANK~1\\AppData\\Local\\Temp/ipykernel_10456/4200812893.py\u001b[0m in \u001b[0;36m<module>\u001b[1;34m\u001b[0m\n\u001b[0;32m      6\u001b[0m \u001b[1;33m\u001b[0m\u001b[0m\n\u001b[0;32m      7\u001b[0m \u001b[0mprint\u001b[0m\u001b[1;33m(\u001b[0m\u001b[1;34m'Lexical diversity = '\u001b[0m\u001b[1;33m,\u001b[0m \u001b[0mlexical_diversity\u001b[0m\u001b[1;33m(\u001b[0m\u001b[0mno_stop_words\u001b[0m\u001b[1;33m)\u001b[0m\u001b[1;33m,\u001b[0m \u001b[1;34m'\\n'\u001b[0m\u001b[1;33m)\u001b[0m\u001b[1;33m\u001b[0m\u001b[1;33m\u001b[0m\u001b[0m\n\u001b[1;32m----> 8\u001b[1;33m \u001b[0mprint\u001b[0m\u001b[1;33m(\u001b[0m\u001b[1;34m'Percentage of word \"'\u001b[0m \u001b[1;33m+\u001b[0m \u001b[0mpojavnost2\u001b[0m\u001b[1;33m[\u001b[0m\u001b[1;36m0\u001b[0m\u001b[1;33m]\u001b[0m \u001b[1;33m+\u001b[0m \u001b[1;34m'\" = '\u001b[0m\u001b[1;33m,\u001b[0m \u001b[0mpercentage\u001b[0m\u001b[1;33m(\u001b[0m\u001b[0mno_stop_words\u001b[0m\u001b[1;33m.\u001b[0m\u001b[0mcount\u001b[0m\u001b[1;33m(\u001b[0m\u001b[0mpojavnost2\u001b[0m\u001b[1;33m[\u001b[0m\u001b[1;36m0\u001b[0m\u001b[1;33m]\u001b[0m\u001b[1;33m)\u001b[0m\u001b[1;33m,\u001b[0m \u001b[0mlen\u001b[0m\u001b[1;33m(\u001b[0m\u001b[0mno_stop_words\u001b[0m\u001b[1;33m)\u001b[0m\u001b[1;33m)\u001b[0m\u001b[1;33m)\u001b[0m\u001b[1;33m\u001b[0m\u001b[1;33m\u001b[0m\u001b[0m\n\u001b[0m\u001b[0;32m      9\u001b[0m \u001b[0mprint\u001b[0m\u001b[1;33m(\u001b[0m\u001b[1;34m'Percentage of word \"'\u001b[0m \u001b[1;33m+\u001b[0m \u001b[0mpojavnost2\u001b[0m\u001b[1;33m[\u001b[0m\u001b[1;36m1\u001b[0m\u001b[1;33m]\u001b[0m \u001b[1;33m+\u001b[0m \u001b[1;34m'\" = '\u001b[0m\u001b[1;33m,\u001b[0m \u001b[0mpercentage\u001b[0m\u001b[1;33m(\u001b[0m\u001b[0mno_stop_words\u001b[0m\u001b[1;33m.\u001b[0m\u001b[0mcount\u001b[0m\u001b[1;33m(\u001b[0m\u001b[0mpojavnost2\u001b[0m\u001b[1;33m[\u001b[0m\u001b[1;36m1\u001b[0m\u001b[1;33m]\u001b[0m\u001b[1;33m)\u001b[0m\u001b[1;33m,\u001b[0m \u001b[0mlen\u001b[0m\u001b[1;33m(\u001b[0m\u001b[0mno_stop_words\u001b[0m\u001b[1;33m)\u001b[0m\u001b[1;33m)\u001b[0m\u001b[1;33m)\u001b[0m\u001b[1;33m\u001b[0m\u001b[1;33m\u001b[0m\u001b[0m\n\u001b[0;32m     10\u001b[0m \u001b[0mprint\u001b[0m\u001b[1;33m(\u001b[0m\u001b[1;34m'Percentage of word \"'\u001b[0m \u001b[1;33m+\u001b[0m \u001b[0mpojavnost2\u001b[0m\u001b[1;33m[\u001b[0m\u001b[1;36m2\u001b[0m\u001b[1;33m]\u001b[0m \u001b[1;33m+\u001b[0m \u001b[1;34m'\" = '\u001b[0m\u001b[1;33m,\u001b[0m \u001b[0mpercentage\u001b[0m\u001b[1;33m(\u001b[0m\u001b[0mno_stop_words\u001b[0m\u001b[1;33m.\u001b[0m\u001b[0mcount\u001b[0m\u001b[1;33m(\u001b[0m\u001b[0mpojavnost2\u001b[0m\u001b[1;33m[\u001b[0m\u001b[1;36m2\u001b[0m\u001b[1;33m]\u001b[0m\u001b[1;33m)\u001b[0m\u001b[1;33m,\u001b[0m \u001b[0mlen\u001b[0m\u001b[1;33m(\u001b[0m\u001b[0mno_stop_words\u001b[0m\u001b[1;33m)\u001b[0m\u001b[1;33m)\u001b[0m\u001b[1;33m)\u001b[0m\u001b[1;33m\u001b[0m\u001b[1;33m\u001b[0m\u001b[0m\n",
      "\u001b[1;31mIndexError\u001b[0m: list index out of range"
     ]
    }
   ],
   "source": [
    "# 10. Izračunati leksički diverzificitet \n",
    "def lexical_diversity(text):\n",
    "    return len(set(text)) / len(text)\n",
    "def percentage(count, total):\n",
    "    return 100 * count / total\n",
    "\n",
    "print('Lexical diversity = ', lexical_diversity(no_stop_words), '\\n')\n",
    "print('Percentage of word \"' + pojavnost2[0] + '\" = ', percentage(no_stop_words.count(pojavnost2[0]), len(no_stop_words)))\n",
    "print('Percentage of word \"' + pojavnost2[1] + '\" = ', percentage(no_stop_words.count(pojavnost2[1]), len(no_stop_words)))\n",
    "print('Percentage of word \"' + pojavnost2[2] + '\" = ', percentage(no_stop_words.count(pojavnost2[2]), len(no_stop_words)))"
   ]
  },
  {
   "cell_type": "code",
   "execution_count": 20,
   "id": "c21b1544",
   "metadata": {},
   "outputs": [
    {
     "name": "stdout",
     "output_type": "stream",
     "text": [
      "Dostupne Brown kategorije:\n",
      " ['adventure', 'belles_lettres', 'editorial', 'fiction', 'government', 'hobbies', 'humor', 'learned', 'lore', 'mystery', 'news', 'religion', 'reviews', 'romance', 'science_fiction']\n",
      "\n",
      "Provjera pojavnosti u kategoriji 'adventure' za riječi:\n",
      "dudley: 0 around: 71 dumbledore: 0 snape: 0 looked: 62 \n",
      "\n",
      "\n",
      "Provjera pojavnosti u kategoriji 'belles_lettres' za riječi:\n",
      "dudley: 0 around: 57 dumbledore: 0 snape: 0 looked: 39 \n",
      "\n",
      "\n",
      "Provjera pojavnosti u kategoriji 'editorial' za riječi:\n",
      "dudley: 0 around: 20 dumbledore: 0 snape: 0 looked: 3 \n",
      "\n",
      "\n",
      "Provjera pojavnosti u kategoriji 'fiction' za riječi:\n",
      "dudley: 0 around: 71 dumbledore: 0 snape: 0 looked: 72 \n",
      "\n",
      "\n",
      "Provjera pojavnosti u kategoriji 'government' za riječi:\n",
      "dudley: 0 around: 6 dumbledore: 0 snape: 0 looked: 2 \n",
      "\n",
      "\n",
      "Provjera pojavnosti u kategoriji 'hobbies' za riječi:\n",
      "dudley: 0 around: 41 dumbledore: 0 snape: 0 looked: 6 \n",
      "\n",
      "\n",
      "Provjera pojavnosti u kategoriji 'humor' za riječi:\n",
      "dudley: 0 around: 15 dumbledore: 0 snape: 0 looked: 13 \n",
      "\n",
      "\n",
      "Provjera pojavnosti u kategoriji 'learned' za riječi:\n",
      "dudley: 0 around: 31 dumbledore: 0 snape: 0 looked: 14 \n",
      "\n",
      "\n",
      "Provjera pojavnosti u kategoriji 'lore' za riječi:\n",
      "dudley: 0 around: 43 dumbledore: 0 snape: 0 looked: 10 \n",
      "\n",
      "\n",
      "Provjera pojavnosti u kategoriji 'mystery' za riječi:\n",
      "dudley: 0 around: 76 dumbledore: 0 snape: 0 looked: 52 \n",
      "\n",
      "\n",
      "Provjera pojavnosti u kategoriji 'news' za riječi:\n",
      "dudley: 0 around: 30 dumbledore: 0 snape: 0 looked: 4 \n",
      "\n",
      "\n",
      "Provjera pojavnosti u kategoriji 'religion' za riječi:\n",
      "dudley: 0 around: 5 dumbledore: 0 snape: 0 looked: 7 \n",
      "\n",
      "\n",
      "Provjera pojavnosti u kategoriji 'reviews' za riječi:\n",
      "dudley: 0 around: 14 dumbledore: 0 snape: 0 looked: 3 \n",
      "\n",
      "\n",
      "Provjera pojavnosti u kategoriji 'romance' za riječi:\n",
      "dudley: 0 around: 68 dumbledore: 0 snape: 0 looked: 72 \n",
      "\n",
      "\n",
      "Provjera pojavnosti u kategoriji 'science_fiction' za riječi:\n",
      "dudley: 0 around: 8 dumbledore: 0 snape: 0 looked: 7 \n",
      "\n",
      "==================================================\n",
      "\n",
      "Provjera pojavnosti u kategoriji 'adventure' za riječi:\n",
      "around: 71 see: 79 professor: 1 hermione: 0 said: 287 \n",
      "\n",
      "\n",
      "Provjera pojavnosti u kategoriji 'belles_lettres' za riječi:\n",
      "around: 57 see: 94 professor: 7 hermione: 0 said: 159 \n",
      "\n",
      "\n",
      "Provjera pojavnosti u kategoriji 'editorial' za riječi:\n",
      "around: 20 see: 39 professor: 3 hermione: 0 said: 52 \n",
      "\n",
      "\n",
      "Provjera pojavnosti u kategoriji 'fiction' za riječi:\n",
      "around: 71 see: 57 professor: 0 hermione: 0 said: 192 \n",
      "\n",
      "\n",
      "Provjera pojavnosti u kategoriji 'government' za riječi:\n",
      "around: 6 see: 12 professor: 0 hermione: 0 said: 18 \n",
      "\n",
      "\n",
      "Provjera pojavnosti u kategoriji 'hobbies' za riječi:\n",
      "around: 41 see: 36 professor: 9 hermione: 0 said: 11 \n",
      "\n",
      "\n",
      "Provjera pojavnosti u kategoriji 'humor' za riječi:\n",
      "around: 15 see: 12 professor: 0 hermione: 0 said: 87 \n",
      "\n",
      "\n",
      "Provjera pojavnosti u kategoriji 'learned' za riječi:\n",
      "around: 31 see: 75 professor: 1 hermione: 0 said: 35 \n",
      "\n",
      "\n",
      "Provjera pojavnosti u kategoriji 'lore' za riječi:\n",
      "around: 43 see: 69 professor: 4 hermione: 0 said: 89 \n",
      "\n",
      "\n",
      "Provjera pojavnosti u kategoriji 'mystery' za riječi:\n",
      "around: 76 see: 79 professor: 0 hermione: 0 said: 202 \n",
      "\n",
      "\n",
      "Provjera pojavnosti u kategoriji 'news' za riječi:\n",
      "around: 30 see: 38 professor: 1 hermione: 0 said: 402 \n",
      "\n",
      "\n",
      "Provjera pojavnosti u kategoriji 'religion' za riječi:\n",
      "around: 5 see: 35 professor: 0 hermione: 0 said: 27 \n",
      "\n",
      "\n",
      "Provjera pojavnosti u kategoriji 'reviews' za riječi:\n",
      "around: 14 see: 14 professor: 1 hermione: 0 said: 11 \n",
      "\n",
      "\n",
      "Provjera pojavnosti u kategoriji 'romance' za riječi:\n",
      "around: 68 see: 74 professor: 0 hermione: 0 said: 330 \n",
      "\n",
      "\n",
      "Provjera pojavnosti u kategoriji 'science_fiction' za riječi:\n",
      "around: 8 see: 15 professor: 0 hermione: 0 said: 41 \n",
      "\n"
     ]
    }
   ],
   "source": [
    "# 11. Prikazati primjer primjene korpusa teksta npr Brown.\n",
    "print('Dostupne Brown kategorije:\\n', brown.categories())\n",
    "genres = brown.categories()\n",
    "\n",
    "# Snaga zaključivanja nije velika jer su najfrekventnije riječi imena proizvoda\n",
    "words = pojavnost2[:5]\n",
    "for i in range(0,len(genres)):\n",
    "    genre = genres[i]\n",
    "    print()\n",
    "    print(\"Provjera pojavnosti u kategoriji '\"+ genre + \"' za riječi:\")\n",
    "    genre_text = brown.words(categories = genre)\n",
    "    fdist = nltk.FreqDist(genre_text)\n",
    "    for w in words:\n",
    "        print(w + ':', fdist[w], end=' ')\n",
    "    print('\\n')\n",
    "    \n",
    "print(\"=\"*50)\n",
    "\n",
    "\n",
    "# Više ima smisla ispustiti imena\n",
    "words = pojavnost2[1],pojavnost2[5],pojavnost2[6],pojavnost2[14],pojavnost2[17]\n",
    "\n",
    "for i in range(0,len(genres)):\n",
    "    genre = genres[i]\n",
    "    print()\n",
    "    print(\"Provjera pojavnosti u kategoriji '\"+ genre + \"' za riječi:\")\n",
    "    genre_text = brown.words(categories = genre)\n",
    "    fdist = nltk.FreqDist(genre_text)\n",
    "    for w in words:\n",
    "        print(w + ':', fdist[w], end=' ')\n",
    "    print('\\n')"
   ]
  },
  {
   "cell_type": "code",
   "execution_count": 12,
   "id": "043681f1",
   "metadata": {},
   "outputs": [
    {
     "name": "stdout",
     "output_type": "stream",
     "text": [
      "the dursleys shuddered to think what the neighbors would say if the potters arrived in the street.\n",
      "['the', 'dursleys', 'shuddered', 'to', 'think', 'what', 'the', 'neighbors', 'would', 'say', 'if', 'the', 'potters', 'arrived', 'in', 'the', 'street', '.']\n"
     ]
    },
    {
     "data": {
      "text/plain": [
       "[('the', 'DT'),\n",
       " ('dursleys', 'NNS'),\n",
       " ('shuddered', 'VBD'),\n",
       " ('to', 'TO'),\n",
       " ('think', 'VB'),\n",
       " ('what', 'WP'),\n",
       " ('the', 'DT'),\n",
       " ('neighbors', 'NNS'),\n",
       " ('would', 'MD'),\n",
       " ('say', 'VB'),\n",
       " ('if', 'IN'),\n",
       " ('the', 'DT'),\n",
       " ('potters', 'NNS'),\n",
       " ('arrived', 'VBD'),\n",
       " ('in', 'IN'),\n",
       " ('the', 'DT'),\n",
       " ('street', 'NN'),\n",
       " ('.', '.')]"
      ]
     },
     "execution_count": 12,
     "metadata": {},
     "output_type": "execute_result"
    }
   ],
   "source": [
    "# 12. Tagirati riječi i prikazati lingvističko stablo na temelju vlastitog uzorka teksta\n",
    "sent1 = book_tokenized[9]\n",
    "print(sent1)\n",
    "tokens1 = word_tokenize(sent1)\n",
    "print(tokens1)\n",
    "sent_tokens1 = nltk.pos_tag(word_tokenize(sent1))\n",
    "sent_tokens1"
   ]
  },
  {
   "cell_type": "code",
   "execution_count": 13,
   "id": "810e0b20",
   "metadata": {},
   "outputs": [
    {
     "data": {
      "image/png": "[encoded data removed]",
      "text/plain": [
       "Tree('S', [('the', 'DT'), ('dursleys', 'NNS'), ('shuddered', 'VBD'), ('to', 'TO'), ('think', 'VB'), ('what', 'WP'), ('the', 'DT'), ('neighbors', 'NNS'), ('would', 'MD'), ('say', 'VB'), ('if', 'IN'), ('the', 'DT'), ('potters', 'NNS'), ('arrived', 'VBD'), ('in', 'IN'), Tree('NP', [('the', 'DT'), ('street', 'NN')]), ('.', '.')])"
      ]
     },
     "execution_count": 13,
     "metadata": {},
     "output_type": "execute_result"
    }
   ],
   "source": [
    "grammar_np = r\"NP: {<DT>?<JJ>*<NN>}\" \n",
    "chunk_parser1 = nltk.RegexpParser(grammar_np)\n",
    "chunk_result1 = chunk_parser1.parse(sent_tokens1)\n",
    "chunk_result1"
   ]
  },
  {
   "cell_type": "code",
   "execution_count": 23,
   "id": "1584d9da",
   "metadata": {},
   "outputs": [
    {
     "data": {
      "image/png": "[encoded data removed]",
      "text/plain": [
       "Tree('S', [('the', 'DT'), ('dursleys', 'NNS'), Tree('VP', [('shuddered', 'VBD')]), ('to', 'TO'), Tree('VP', [('think', 'VB')]), ('what', 'WP'), ('the', 'DT'), ('neighbors', 'NNS'), ('would', 'MD'), Tree('VP', [('say', 'VB')]), ('if', 'IN'), ('the', 'DT'), ('potters', 'NNS'), Tree('VP', [('arrived', 'VBD')]), ('in', 'IN'), ('the', 'DT'), ('street', 'NN'), ('.', '.')])"
      ]
     },
     "execution_count": 23,
     "metadata": {},
     "output_type": "execute_result"
    }
   ],
   "source": [
    "grammar_vp = r\"VP: {<PRP>?<VB|VBD|VBZ|VBG>*<RB|RBR>?}\"\n",
    "chunk_parser2 = nltk.RegexpParser(grammar_vp)\n",
    "sent2 = sent1\n",
    "sent_tokens2 = nltk.pos_tag(word_tokenize(sent2))\n",
    "sent_tokens2\n",
    "chunk_result2 = chunk_parser2.parse(sent_tokens2)\n",
    "chunk_result2"
   ]
  },
  {
   "cell_type": "code",
   "execution_count": null,
   "id": "c077d005",
   "metadata": {},
   "outputs": [],
   "source": []
  },
  {
   "cell_type": "code",
   "execution_count": null,
   "id": "e29fcfab",
   "metadata": {},
   "outputs": [],
   "source": []
  },
  {
   "cell_type": "code",
   "execution_count": null,
   "id": "e7d254cb",
   "metadata": {},
   "outputs": [],
   "source": []
  },
  {
   "cell_type": "code",
   "execution_count": null,
   "id": "2e1dfb05",
   "metadata": {},
   "outputs": [],
   "source": []
  }
 ],
 "metadata": {
  "kernelspec": {
   "display_name": "Python 3 (ipykernel)",
   "language": "python",
   "name": "python3"
  },
  "language_info": {
   "codemirror_mode": {
    "name": "ipython",
    "version": 3
   },
   "file_extension": ".py",
   "mimetype": "text/x-python",
   "name": "python",
   "nbconvert_exporter": "python",
   "pygments_lexer": "ipython3",
   "version": "3.9.7"
  }
 },
 "nbformat": 4,
 "nbformat_minor": 5
}
